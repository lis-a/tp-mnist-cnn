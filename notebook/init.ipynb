{
 "cells": [
  {
   "cell_type": "code",
   "execution_count": 2,
   "id": "13585d78-9eea-4ddd-a2a3-e2687f56cb17",
   "metadata": {},
   "outputs": [],
   "source": [
    "import torch\n",
    "import torch.nn as nn\n",
    "import torch.nn.functional as F\n",
    "from torchvision import datasets, transforms\n",
    "import matplotlib.pyplot as plt"
   ]
  },
  {
   "cell_type": "code",
   "execution_count": 3,
   "id": "d3315be5-6aa1-47c8-bfdd-c07715e1882e",
   "metadata": {},
   "outputs": [
    {
     "name": "stdout",
     "output_type": "stream",
     "text": [
      "Using device: mps\n"
     ]
    }
   ],
   "source": [
    "if torch.cuda.is_available():\n",
    "    device = \"cuda\"\n",
    "elif torch.backends.mps.is_available():\n",
    "    device = \"mps\"\n",
    "else:\n",
    "    device = \"cpu\"\n",
    "\n",
    "print(f\"Using device: {device}\")"
   ]
  },
  {
   "cell_type": "code",
   "execution_count": 4,
   "id": "6ba60f10-0e2d-4b33-8af9-3a9b0602cc6e",
   "metadata": {},
   "outputs": [],
   "source": [
    "# Définition des transformations\n",
    "tf = transforms.Compose([\n",
    "    transforms.ToTensor(),\n",
    "    transforms.Normalize((0.1307,), (0.3081,))\n",
    "])"
   ]
  },
  {
   "cell_type": "code",
   "execution_count": 5,
   "id": "16a53cb5-36ce-48c0-aeb7-8f801bd28a81",
   "metadata": {},
   "outputs": [],
   "source": [
    "# Chargement du dataset\n",
    "train_loader = torch.utils.data.DataLoader(\n",
    "    datasets.MNIST(\"../data/raw\", train=True, download=True, transform=tf),\n",
    "    batch_size=64, shuffle=True\n",
    ")\n",
    "\n",
    "test_loader = torch.utils.data.DataLoader(\n",
    "    datasets.MNIST(\"../data/raw\", train=False, download=True, transform=tf),\n",
    "    batch_size=64, shuffle=True\n",
    ")"
   ]
  },
  {
   "cell_type": "code",
   "execution_count": 6,
   "id": "d180bf38-2457-4f53-a04c-a7271fb9b99a",
   "metadata": {},
   "outputs": [
    {
     "data": {
      "image/png": "[encoded data removed]",
      "text/plain": [
       "<Figure size 1200x300 with 5 Axes>"
      ]
     },
     "metadata": {},
     "output_type": "display_data"
    }
   ],
   "source": [
    "# Affichage des 5 premières images\n",
    "batch = next(iter(train_loader))\n",
    "x = batch[0][:5]\n",
    "y = batch[1][:5]\n",
    "\n",
    "fig, axes = plt.subplots(1, 5, figsize=(12, 3))\n",
    "for i in range(5):\n",
    "    axes[i].imshow(x[i][0], cmap=\"gray\")\n",
    "    axes[i].set_title(f\"Label: {y[i].item()}\")\n",
    "    axes[i].axis(\"off\")\n",
    "plt.tight_layout()\n",
    "plt.show()"
   ]
  },
  {
   "cell_type": "code",
   "execution_count": 8,
   "id": "75c21adf-8b62-4c40-ab87-84b6c9a963b0",
   "metadata": {},
   "outputs": [],
   "source": [
    "class ConvNet(nn.Module):\n",
    "    def __init__(self, input_size, n_kernels, output_size):\n",
    "        super().__init__()\n",
    "        self.net = nn.Sequential(\n",
    "            nn.Conv2d(1, n_kernels, kernel_size=5),   # 28x28 -> 24x24\n",
    "            nn.ReLU(),\n",
    "            nn.MaxPool2d(2),                          # 24x24 -> 12x12\n",
    "            nn.Conv2d(n_kernels, n_kernels, kernel_size=5),  # 12x12 -> 8x8\n",
    "            nn.ReLU(),\n",
    "            nn.MaxPool2d(2),                          # 8x8 -> 4x4\n",
    "            nn.Flatten(),                             # -> n_kernels * 4 * 4\n",
    "            nn.Linear(n_kernels * 4 * 4, 50),\n",
    "            nn.Linear(50, output_size)\n",
    "        )\n",
    "\n",
    "    def forward(self, x):\n",
    "        return self.net(x)"
   ]
  },
  {
   "cell_type": "code",
   "execution_count": 9,
   "id": "a54a9c1e",
   "metadata": {},
   "outputs": [
    {
     "name": "stdout",
     "output_type": "stream",
     "text": [
      "Nombre de paramètres : 6.422K\n"
     ]
    }
   ],
   "source": [
    "input_size = 28 * 28\n",
    "n_kernels = 6\n",
    "output_size = 10\n",
    "\n",
    "model = ConvNet(input_size, n_kernels, output_size).to(device)\n",
    "print(f\"Nombre de paramètres : {sum(p.numel() for p in model.parameters())/1e3:.3f}K\")\n"
   ]
  },
  {
   "cell_type": "code",
   "execution_count": 10,
   "id": "f204c105-b898-4b92-9734-d20ab9138f94",
   "metadata": {},
   "outputs": [],
   "source": [
    "def train(model, perm=torch.arange(0, 784).long(), n_epoch=1):\n",
    "    model.train()  # met le modèle en mode entraînement\n",
    "    optimizer = torch.optim.AdamW(model.parameters())\n",
    "\n",
    "    for epoch in range(n_epoch):\n",
    "        for step, (data, target) in enumerate(train_loader):\n",
    "            data, target = data.to(device), target.to(device)\n",
    "\n",
    "            # Appliquer permutation circulaire si besoin\n",
    "            data = data.view(-1, 28*28)\n",
    "            data = data[:, perm]\n",
    "            data = data.view(-1, 1, 28, 28)\n",
    "\n",
    "            optimizer.zero_grad()\n",
    "            logits = model(data)\n",
    "            loss = F.cross_entropy(logits, target)\n",
    "            loss.backward()\n",
    "            optimizer.step()\n",
    "\n",
    "            if step % 100 == 0:\n",
    "                print(f\"epoch={epoch}, step={step}: train loss={loss.item():.4f}\")\n"
   ]
  },
  {
   "cell_type": "code",
   "execution_count": 11,
   "id": "18cca10d-7534-4175-b221-34c196085155",
   "metadata": {},
   "outputs": [
    {
     "name": "stdout",
     "output_type": "stream",
     "text": [
      "epoch=0, step=0: train loss=2.3177\n",
      "epoch=0, step=100: train loss=0.2790\n",
      "epoch=0, step=200: train loss=0.3607\n",
      "epoch=0, step=300: train loss=0.4194\n",
      "epoch=0, step=400: train loss=0.2407\n",
      "epoch=0, step=500: train loss=0.0702\n",
      "epoch=0, step=600: train loss=0.0878\n",
      "epoch=0, step=700: train loss=0.0845\n",
      "epoch=0, step=800: train loss=0.2575\n",
      "epoch=0, step=900: train loss=0.2101\n"
     ]
    }
   ],
   "source": [
    "train(model)"
   ]
  },
  {
   "cell_type": "code",
   "execution_count": 12,
   "id": "68ac2ac3-08c4-4347-8345-da07ab81953a",
   "metadata": {},
   "outputs": [],
   "source": [
    "def test(model, perm=torch.arange(0, 784).long()):\n",
    "    model.eval()  # mode évaluation\n",
    "    test_loss = 0\n",
    "    correct = 0\n",
    "\n",
    "    with torch.no_grad():\n",
    "        for data, target in test_loader:\n",
    "            data, target = data.to(device), target.to(device)\n",
    "\n",
    "            # Appliquer la permutation\n",
    "            data = data.view(-1, 28*28)\n",
    "            data = data[:, perm]\n",
    "            data = data.view(-1, 1, 28, 28)\n",
    "\n",
    "            logits = model(data)\n",
    "            test_loss += F.cross_entropy(logits, target, reduction='sum').item()\n",
    "\n",
    "            pred = torch.argmax(logits, dim=1)\n",
    "            correct += pred.eq(target).sum().item()\n",
    "\n",
    "    test_loss /= len(test_loader.dataset)\n",
    "    accuracy = correct / len(test_loader.dataset)\n",
    "\n",
    "    print(f\"test loss={test_loss:.4f}, accuracy={accuracy:.4f}\")\n"
   ]
  },
  {
   "cell_type": "code",
   "execution_count": 13,
   "id": "8d5a3b4d-4ffb-41a6-94e4-87610d1c9409",
   "metadata": {},
   "outputs": [
    {
     "name": "stdout",
     "output_type": "stream",
     "text": [
      "test loss=0.0994, accuracy=0.9693\n"
     ]
    }
   ],
   "source": [
    "test(model)"
   ]
  },
  {
   "cell_type": "code",
   "execution_count": 14,
   "id": "dc778e98-f69a-4234-87a7-077028730bb5",
   "metadata": {},
   "outputs": [],
   "source": [
    "def main():\n",
    "    input_size = 28 * 28\n",
    "    output_size = 10\n",
    "    n_kernels = 6\n",
    "\n",
    "    model = ConvNet(input_size, n_kernels, output_size).to(device)\n",
    "    print(f\"Parameters={sum(p.numel() for p in model.parameters())/1e3:.3f}K\")\n",
    "\n",
    "    train(model)\n",
    "    test(model)\n"
   ]
  },
  {
   "cell_type": "code",
   "execution_count": 15,
   "id": "bd7fb69c-fecc-4489-b5eb-1ff04232b786",
   "metadata": {},
   "outputs": [
    {
     "name": "stdout",
     "output_type": "stream",
     "text": [
      "Parameters=6.422K\n",
      "epoch=0, step=0: train loss=2.3314\n",
      "epoch=0, step=100: train loss=0.3924\n",
      "epoch=0, step=200: train loss=0.4221\n",
      "epoch=0, step=300: train loss=0.2222\n",
      "epoch=0, step=400: train loss=0.1408\n",
      "epoch=0, step=500: train loss=0.2932\n",
      "epoch=0, step=600: train loss=0.2213\n",
      "epoch=0, step=700: train loss=0.0491\n",
      "epoch=0, step=800: train loss=0.0966\n",
      "epoch=0, step=900: train loss=0.1820\n",
      "test loss=0.1004, accuracy=0.9693\n"
     ]
    }
   ],
   "source": [
    "main()"
   ]
  },
  {
   "cell_type": "code",
   "execution_count": 16,
   "id": "c00ec105-d482-4aca-82bc-766c636b7928",
   "metadata": {},
   "outputs": [],
   "source": [
    "class MLP(nn.Module):\n",
    "    def __init__(self, input_size, n_hidden, output_size):\n",
    "        super().__init__()\n",
    "        self.net = nn.Sequential(\n",
    "            nn.Flatten(),  # aplatissement des images\n",
    "            nn.Linear(input_size, n_hidden),\n",
    "            nn.ReLU(),\n",
    "            nn.Linear(n_hidden, n_hidden),\n",
    "            nn.ReLU(),\n",
    "            nn.Linear(n_hidden, output_size)\n",
    "        )\n",
    "\n",
    "    def forward(self, x):\n",
    "        return self.net(x)\n"
   ]
  },
  {
   "cell_type": "code",
   "execution_count": 17,
   "id": "a256a317-4bfc-4319-bf40-e2908be11503",
   "metadata": {},
   "outputs": [
    {
     "name": "stdout",
     "output_type": "stream",
     "text": [
      "Parameters=6.442K\n",
      "epoch=0, step=0: train loss=2.3548\n",
      "epoch=0, step=100: train loss=1.3719\n",
      "epoch=0, step=200: train loss=0.6701\n",
      "epoch=0, step=300: train loss=0.6226\n",
      "epoch=0, step=400: train loss=0.6928\n",
      "epoch=0, step=500: train loss=0.6893\n",
      "epoch=0, step=600: train loss=0.5063\n",
      "epoch=0, step=700: train loss=0.3925\n",
      "epoch=0, step=800: train loss=0.2446\n",
      "epoch=0, step=900: train loss=0.4941\n",
      "test loss=0.4430, accuracy=0.8722\n"
     ]
    }
   ],
   "source": [
    "input_size = 28 * 28\n",
    "output_size = 10\n",
    "n_hidden = 8\n",
    "\n",
    "mlp = MLP(input_size, n_hidden, output_size).to(device)\n",
    "print(f\"Parameters={sum(p.numel() for p in mlp.parameters())/1e3:.3f}K\")\n",
    "\n",
    "train(mlp)\n",
    "test(mlp)"
   ]
  },
  {
   "cell_type": "markdown",
   "id": "74b76637-d9db-4dd1-8391-e5b74cbc7ed6",
   "metadata": {},
   "source": [
    "### 📊 Comparaison CNN vs MLP sur MNIST\n",
    "\n",
    "| Critère              | CNN (~6.42K params) | MLP (~6.44K params) |\n",
    "|----------------------|---------------------|----------------------|\n",
    "| **Perte (test)**     | 0.0994              | 0.4430               |\n",
    "| **Précision (test)** | 96.93 %             | 87.22 %              |\n",
    "\n",
    "---\n",
    "\n",
    "### 🧠 Analyse simple\n",
    "\n",
    "- Le **CNN** est **plus efficace** que le **MLP** pour reconnaître des chiffres sur des images.\n",
    "- Cela s'explique par le fait que :\n",
    "  - Le **CNN** peut repérer des formes locales (traits, coins, courbes) car il tient compte de la structure de l’image (grâce aux couches de convolution et de pooling).\n",
    "  - Le **MLP**, lui, traite chaque pixel séparément, sans comprendre qu’un pixel est proche d’un autre. Il apprend donc moins bien sur des images.\n",
    "\n",
    "---\n",
    "\n",
    "### ✅ Conclusion\n",
    "\n",
    "Même avec presque le **même nombre de paramètres**, le **CNN est beaucoup plus performant** que le MLP sur ce type de données.\n",
    "\n",
    "Il est donc **mieux adapté pour analyser des images**, car il sait capter la **forme et la position des motifs**, ce que ne fait pas un MLP."
   ]
  },
  {
   "cell_type": "code",
   "execution_count": 18,
   "id": "ff4936ce-b318-474a-b9eb-e812a801501a",
   "metadata": {},
   "outputs": [],
   "source": [
    "perm = torch.randperm(784)"
   ]
  },
  {
   "cell_type": "code",
   "execution_count": 19,
   "id": "c48ec975-7202-47a6-858a-aa7ff4554664",
   "metadata": {},
   "outputs": [
    {
     "name": "stdout",
     "output_type": "stream",
     "text": [
      "[CNN permuté] Parameters=6.422K\n",
      "epoch=0, step=0: train loss=2.3049\n",
      "epoch=0, step=100: train loss=1.2912\n",
      "epoch=0, step=200: train loss=0.6717\n",
      "epoch=0, step=300: train loss=0.5261\n",
      "epoch=0, step=400: train loss=0.7551\n",
      "epoch=0, step=500: train loss=0.5791\n",
      "epoch=0, step=600: train loss=0.3367\n",
      "epoch=0, step=700: train loss=0.5788\n",
      "epoch=0, step=800: train loss=0.5605\n",
      "epoch=0, step=900: train loss=0.5001\n",
      "test loss=0.3948, accuracy=0.8805\n"
     ]
    }
   ],
   "source": [
    "convnet_perm = ConvNet(input_size, n_kernels, output_size).to(device)\n",
    "print(f\"[CNN permuté] Parameters={sum(p.numel() for p in convnet_perm.parameters())/1e3:.3f}K\")\n",
    "\n",
    "train(convnet_perm, perm=perm)\n",
    "test(convnet_perm, perm=perm)"
   ]
  },
  {
   "cell_type": "code",
   "execution_count": 20,
   "id": "ef3d32f0-44c7-4acb-8142-4aa2be614aaf",
   "metadata": {},
   "outputs": [
    {
     "name": "stdout",
     "output_type": "stream",
     "text": [
      "[MLP permuté] Parameters=6.442K\n",
      "epoch=0, step=0: train loss=2.3965\n",
      "epoch=0, step=100: train loss=1.4215\n",
      "epoch=0, step=200: train loss=0.9672\n",
      "epoch=0, step=300: train loss=0.7979\n",
      "epoch=0, step=400: train loss=0.5457\n",
      "epoch=0, step=500: train loss=0.7244\n",
      "epoch=0, step=600: train loss=0.6537\n",
      "epoch=0, step=700: train loss=0.7273\n",
      "epoch=0, step=800: train loss=0.5054\n",
      "epoch=0, step=900: train loss=0.5484\n",
      "test loss=0.4516, accuracy=0.8692\n"
     ]
    }
   ],
   "source": [
    "mlp_perm = MLP(input_size, n_hidden, output_size).to(device)\n",
    "print(f\"[MLP permuté] Parameters={sum(p.numel() for p in mlp_perm.parameters())/1e3:.3f}K\")\n",
    "\n",
    "train(mlp_perm, perm=perm)\n",
    "test(mlp_perm, perm=perm)\n"
   ]
  },
  {
   "cell_type": "code",
   "execution_count": null,
   "id": "7fc2c127-1036-4a19-8aad-3058fc86114b",
   "metadata": {},
   "outputs": [],
   "source": [
    "### 🌀 Effet d'une permutation aléatoire sur les performances\n",
    "\n",
    "> Nous avons appliqué une permutation aléatoire des pixels sur les images MNIST, et réentraîné les deux modèles (CNN & MLP).\n",
    "\n",
    "#### 📊 Résultats comparés\n",
    "\n",
    "| Modèle        | Accuracy sans permutation | Accuracy avec permutation |\n",
    "|---------------|---------------------------|----------------------------|\n",
    "| **CNN**       | 96.93 %                   | 88.05 %                   |\n",
    "| **MLP**       | 87.22 %                   | 86.92 %                   |\n",
    "\n",
    "#### 🧠 Analyse\n",
    "\n",
    "- Le **CNN** perd **près de 9 points** d’accuracy, car la permutation **détruit la structure spatiale** des images.\n",
    "- Le **MLP**, en revanche, n’est **presque pas affecté**, car il **n’exploite pas la disposition spatiale des pixels**.\n",
    "- Cela confirme que les **CNN sont très dépendants de la structure locale** des images (ce qui est une force quand elle est présente), alors que les **MLP traitent chaque pixel indépendamment**.\n",
    "\n",
    "#### ✅ Conclusion\n",
    "\n",
    "- La permutation des pixels permet de montrer que le **CNN utilise réellement la structure spatiale** pour apprendre.\n",
    "- Le **MLP**, lui, est déjà insensible à cette structure, ce qui explique pourquoi sa performance reste stable… mais inférieure à celle d’un CNN non permuté.\n"
   ]
  },
  {
   "cell_type": "code",
   "execution_count": 22,
   "id": "23c1db47-7b83-4607-82dd-f78ac9157e01",
   "metadata": {},
   "outputs": [],
   "source": [
    "# Sauvegarde du modèle CNN original (non permuté)\n",
    "torch.save(model.state_dict(), \"../model/mnist-0.0.1.pt\")"
   ]
  },
  {
   "cell_type": "code",
   "execution_count": null,
   "id": "7543ab3c-a735-4922-ab85-04b2c185567a",
   "metadata": {},
   "outputs": [],
   "source": []
  }
 ],
 "metadata": {
  "kernelspec": {
   "display_name": "Python 3 (ipykernel)",
   "language": "python",
   "name": "python3"
  },
  "language_info": {
   "codemirror_mode": {
    "name": "ipython",
    "version": 3
   },
   "file_extension": ".py",
   "mimetype": "text/x-python",
   "name": "python",
   "nbconvert_exporter": "python",
   "pygments_lexer": "ipython3",
   "version": "3.13.2"
  }
 },
 "nbformat": 4,
 "nbformat_minor": 5
}
